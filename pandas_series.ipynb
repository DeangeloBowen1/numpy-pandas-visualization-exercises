{
 "cells": [
  {
   "cell_type": "code",
   "execution_count": null,
   "id": "af2b56f3",
   "metadata": {},
   "outputs": [],
   "source": [
    "import numpy as np\n",
    "import pandas as pd\n",
    "\n",
    "import matplotlib.pyplot as plt"
   ]
  },
  {
   "cell_type": "code",
   "execution_count": null,
   "id": "ed8d3b4c",
   "metadata": {},
   "outputs": [],
   "source": [
    "fruits = pd.Series([\"kiwi\", \"mango\", \"strawberry\", \"pineapple\", \"gala apple\", \n",
    "          \"honeycrisp apple\", \"tomato\", \"watermelon\", \"honeydew\", \"kiwi\", \n",
    "          \"kiwi\", \"kiwi\", \"mango\", \"blueberry\", \"blackberry\", \"gooseberry\", \"papaya\"])"
   ]
  },
  {
   "cell_type": "markdown",
   "id": "f5fe75c1",
   "metadata": {},
   "source": [
    "1. Determine the number of elements in fruits.\n",
    "    \n",
    "2. Output only the index from fruits.\n",
    "    \n",
    "3. Output only the values from fruits.\n",
    "    \n",
    "4. Confirm the data type of the values in fruits.\n",
    "    \n",
    "5. Output only the first five values from fruits. Output the last three values. Output two random values from fruits.\n",
    "    \n",
    "6. Run the `.describe()` on fruits to see what information it returns when called on a  Series with string values.\n",
    "\n",
    "7. Run the code necessary to produce only the unique string values from fruits.\n",
    "\n",
    "8. Determine how many times each unique string value occurs in fruits.\n",
    "\n",
    "9. Determine the string value that occurs most frequently in fruits.\n",
    "\n",
    "10. Determine the string value that occurs least frequently in fruits."
   ]
  },
  {
   "cell_type": "code",
   "execution_count": null,
   "id": "11844f54",
   "metadata": {},
   "outputs": [],
   "source": [
    "fruits"
   ]
  },
  {
   "cell_type": "code",
   "execution_count": null,
   "id": "aab4df6c",
   "metadata": {},
   "outputs": [],
   "source": [
    "fruits.index\n",
    "\n",
    "# Output the index"
   ]
  },
  {
   "cell_type": "code",
   "execution_count": null,
   "id": "cc0f6b15",
   "metadata": {},
   "outputs": [],
   "source": [
    "fruits.values\n",
    "\n",
    "# confirming the values"
   ]
  },
  {
   "cell_type": "code",
   "execution_count": null,
   "id": "0437f55a",
   "metadata": {},
   "outputs": [],
   "source": [
    "fruits.dtype\n",
    "\n",
    "# confirming the data type"
   ]
  },
  {
   "cell_type": "code",
   "execution_count": null,
   "id": "2bd72a0a",
   "metadata": {},
   "outputs": [],
   "source": [
    "fruits.head()\n",
    "\n",
    "# First 5 values in the df"
   ]
  },
  {
   "cell_type": "code",
   "execution_count": null,
   "id": "cd9193dd",
   "metadata": {},
   "outputs": [],
   "source": [
    "fruits.tail(3)\n",
    "\n",
    "# Last 3 values in the df"
   ]
  },
  {
   "cell_type": "code",
   "execution_count": null,
   "id": "49e6331e",
   "metadata": {},
   "outputs": [],
   "source": [
    "fruits.sample(2)\n",
    "\n",
    "# random values in the df"
   ]
  },
  {
   "cell_type": "code",
   "execution_count": null,
   "id": "c5ae9b4d",
   "metadata": {
    "scrolled": true
   },
   "outputs": [],
   "source": [
    "fruits.describe()\n",
    "\n",
    "# running describe to see what the df contains"
   ]
  },
  {
   "cell_type": "code",
   "execution_count": null,
   "id": "e4c1a4d5",
   "metadata": {},
   "outputs": [],
   "source": [
    "fruits.value_counts().idmax()"
   ]
  },
  {
   "cell_type": "code",
   "execution_count": null,
   "id": "5e45a398",
   "metadata": {},
   "outputs": [],
   "source": [
    "fruits.unique()"
   ]
  },
  {
   "cell_type": "code",
   "execution_count": null,
   "id": "e6fbf049",
   "metadata": {},
   "outputs": [],
   "source": [
    "fruits.value_counts()"
   ]
  },
  {
   "cell_type": "code",
   "execution_count": null,
   "id": "1feb202e",
   "metadata": {},
   "outputs": [],
   "source": [
    "fruits.value_counts().idxmin()"
   ]
  },
  {
   "cell_type": "code",
   "execution_count": null,
   "id": "102c9868",
   "metadata": {},
   "outputs": [],
   "source": [
    "# or \n",
    "fruits.value_counts().nsmallest(n = 1, keep = \"all\")"
   ]
  },
  {
   "cell_type": "markdown",
   "id": "551adb7d",
   "metadata": {},
   "source": [
    "## Exercises Part II\n",
    "\n",
    "Explore more attributes and methods while you continue to work with the fruits Series."
   ]
  },
  {
   "cell_type": "markdown",
   "id": "dd52b19e",
   "metadata": {},
   "source": [
    "- 1. Capitalize all the string values in fruits.\n",
    "\n",
    "- 2. Count the letter \"a\" in all the string values (use string vectorization).\n",
    "\n",
    "- 3. Output the number of vowels in each and every string value.\n",
    "    \n",
    "- 4. Write the code to get the longest string value from fruits.\n",
    "\n",
    "- 5. Write the code to get the string values with 5 or more letters in the name.\n",
    "\n",
    "- 6. Use the `.apply` method with a lambda function to find the fruit(s) containing the letter `\"o\"` two or more times.\n",
    "\n",
    "- 7. Write the code to get only the string values containing the substring \"berry\".\n",
    "\n",
    "- 8. Write the code to get only the string values containing the substring \"apple\".\n",
    "\n",
    "- 9. Which string value contains the most vowels?"
   ]
  },
  {
   "cell_type": "code",
   "execution_count": null,
   "id": "29ba4904",
   "metadata": {},
   "outputs": [],
   "source": [
    "fruits.str.capitalize()"
   ]
  },
  {
   "cell_type": "code",
   "execution_count": null,
   "id": "e7b31722",
   "metadata": {
    "scrolled": true
   },
   "outputs": [],
   "source": [
    "fruits.str.count('a')"
   ]
  },
  {
   "cell_type": "code",
   "execution_count": null,
   "id": "732b9d3b",
   "metadata": {},
   "outputs": [],
   "source": [
    "fruits.str.count"
   ]
  },
  {
   "cell_type": "code",
   "execution_count": null,
   "id": "90439c54",
   "metadata": {},
   "outputs": [],
   "source": [
    "fruits.str.count('[aeiou]')"
   ]
  },
  {
   "cell_type": "code",
   "execution_count": null,
   "id": "564c65a0",
   "metadata": {},
   "outputs": [],
   "source": [
    "max(fruits, key=len)"
   ]
  },
  {
   "cell_type": "code",
   "execution_count": null,
   "id": "60949e9a",
   "metadata": {},
   "outputs": [],
   "source": [
    "fruits[fruits.str.len() >= 5]"
   ]
  },
  {
   "cell_type": "code",
   "execution_count": null,
   "id": "9e3d46cc",
   "metadata": {},
   "outputs": [],
   "source": [
    "fruits[fruits.apply(lambda x: x.count('o') >= 2)]"
   ]
  },
  {
   "cell_type": "code",
   "execution_count": null,
   "id": "f1419625",
   "metadata": {},
   "outputs": [],
   "source": [
    "fruits[fruits.str.contains(\"berry\")]"
   ]
  },
  {
   "cell_type": "code",
   "execution_count": null,
   "id": "7dcc256e",
   "metadata": {},
   "outputs": [],
   "source": [
    "fruits[fruits.str.contains(\"apple\")]"
   ]
  },
  {
   "cell_type": "code",
   "execution_count": 88,
   "id": "96dc8c05",
   "metadata": {},
   "outputs": [
    {
     "data": {
      "text/plain": [
       "'honeycrisp apple'"
      ]
     },
     "execution_count": 88,
     "metadata": {},
     "output_type": "execute_result"
    }
   ],
   "source": [
    "fruits[max(fruits.str.count('[aeiou]'))]"
   ]
  },
  {
   "cell_type": "markdown",
   "id": "bb4a8a5e",
   "metadata": {},
   "source": [
    "Use pandas to create a Series named letters from the following string. The easiest way to make this string into a Pandas series is to use `list` to convert each individual letter into a single string on a basic Python list. \n",
    "\n",
    "        'hnvidduckkqxwymbimkccexbkmqygkxoyndmcxnwqarhyffsjpsrabtjzsypmzadfavyrnndndvswreauxovncxtwzpwejilzjrmmbbgbyxvjtewqthafnbkqplarokkyydtubbmnexoypulzwfhqvckdpqtpoppzqrmcvhhpwgjwupgzhiofohawytlsiyecuproguy'\n",
    "\n",
    "1. Which letter occurs the most frequently in the letters Series? \n",
    "\n",
    "2. Which letter occurs the Least frequently?\n",
    "    \n",
    "3. How many vowels are in the Series?\n",
    "    \n",
    "4. How many consonants are in the Series?\n",
    "    \n",
    "5. Create a Series that has all of the same letters but uppercased.\n",
    "    \n",
    "6. Create a bar plot of the frequencies of the 6 most commonly occuring\n",
    "      letters."
   ]
  },
  {
   "cell_type": "code",
   "execution_count": null,
   "id": "f4a6173e",
   "metadata": {},
   "outputs": [],
   "source": [
    "letter = pd.Series(list( 'hnvidduckkqxwymbimkccexbkmqygkxoyndmcxnwqarhyffsjpsrabtjzsypmzadfavyrnndndvswreauxovncxtwzpwejilzjrmmbbgbyxvjtewqthafnbkqplarokkyydtubbmnexoypulzwfhqvckdpqtpoppzqrmcvhhpwgjwupgzhiofohawytlsiyecuproguy'\n",
    "))"
   ]
  },
  {
   "cell_type": "code",
   "execution_count": null,
   "id": "f786bc4a",
   "metadata": {},
   "outputs": [],
   "source": [
    "letter.value_counts().head()"
   ]
  },
  {
   "cell_type": "code",
   "execution_count": null,
   "id": "42ec6438",
   "metadata": {},
   "outputs": [],
   "source": [
    "letter.value_counts().tail()"
   ]
  },
  {
   "cell_type": "code",
   "execution_count": 119,
   "id": "a7ced642",
   "metadata": {},
   "outputs": [
    {
     "data": {
      "text/plain": [
       "34"
      ]
     },
     "execution_count": 119,
     "metadata": {},
     "output_type": "execute_result"
    }
   ],
   "source": [
    "letter.str.count('[aeiou]').sum()"
   ]
  },
  {
   "cell_type": "code",
   "execution_count": null,
   "id": "d39982db",
   "metadata": {},
   "outputs": [],
   "source": [
    "letter[~letter.isin(['a','e','i','o','u'])].count()"
   ]
  },
  {
   "cell_type": "code",
   "execution_count": null,
   "id": "8ffaa4b7",
   "metadata": {},
   "outputs": [],
   "source": [
    "letter.str.capitalize().head()"
   ]
  },
  {
   "cell_type": "code",
   "execution_count": null,
   "id": "671d9ce4",
   "metadata": {},
   "outputs": [],
   "source": [
    "letter.value_counts().head(6) #nlargest keep all also works here"
   ]
  },
  {
   "cell_type": "code",
   "execution_count": null,
   "id": "5c039fe7",
   "metadata": {},
   "outputs": [],
   "source": [
    "letter.value_counts().head(6).plot.bar(color='firebrick', width=.7)\n",
    "plt.title('Most Frequent Values in Letter')\n",
    "plt.xticks(rotation=0)\n",
    "plt.xlabel('Letter')\n",
    "plt.ylabel('Frequency')\n",
    "\n",
    "plt.show()"
   ]
  },
  {
   "cell_type": "code",
   "execution_count": 80,
   "id": "ed266d55",
   "metadata": {},
   "outputs": [],
   "source": [
    "n =  ['$796,459.41', '$278.60', '$482,571.67', '$4,503,915.98', '$2,121,418.3', '$1,260,813.3', '$87,231.01', '$1,509,175.45', '$4,138,548.00', '$2,848,913.80', '$594,715.39', '$4,789,988.17', '$4,513,644.5', '$3,191,059.97', '$1,758,712.24', '$4,338,283.54', '$4,738,303.38', '$2,791,759.67', '$769,681.94', '$452,650.23']"
   ]
  },
  {
   "cell_type": "markdown",
   "id": "afd7dad6",
   "metadata": {},
   "source": [
    "7. What is the data type of the numbers Series?\n",
    "\n",
    "8. How many elements are in the number Series?\n",
    "    \n",
    "9. Perform the necessary manipulations by accessing Series attributes and methods to convert the numbers Series to a numeric data type.\n",
    "    \n",
    "10. Run the code to discover the maximum value from the Series.\n",
    "\n",
    "11. Run the code to discover the minimum value from the Series.\n",
    "\n",
    "12. What is the range of the values in the Series?\n",
    "    \n",
    "13. Bin the data into 4 equally sized intervals or bins and output how many values fall into each bin.\n",
    "    \n",
    "14. Plot the binned data in a meaningful way. Be sure to include a title and axis labels."
   ]
  },
  {
   "cell_type": "code",
   "execution_count": 82,
   "id": "5de027dc",
   "metadata": {},
   "outputs": [],
   "source": [
    "numbers_series = pd.Series(n)"
   ]
  },
  {
   "cell_type": "code",
   "execution_count": 83,
   "id": "bf6c0ca1",
   "metadata": {},
   "outputs": [
    {
     "data": {
      "text/plain": [
       "dtype('O')"
      ]
     },
     "execution_count": 83,
     "metadata": {},
     "output_type": "execute_result"
    }
   ],
   "source": [
    "numbers_series.dtype"
   ]
  },
  {
   "cell_type": "code",
   "execution_count": 85,
   "id": "87231279",
   "metadata": {},
   "outputs": [
    {
     "data": {
      "text/plain": [
       "20"
      ]
     },
     "execution_count": 85,
     "metadata": {},
     "output_type": "execute_result"
    }
   ],
   "source": [
    "numbers_series.value_counts().sum()"
   ]
  },
  {
   "cell_type": "code",
   "execution_count": 113,
   "id": "36650aee",
   "metadata": {
    "scrolled": false
   },
   "outputs": [
    {
     "name": "stderr",
     "output_type": "stream",
     "text": [
      "/var/folders/l0/pspylhjn0gv1mxwxjp023m0m0000gn/T/ipykernel_82299/284002677.py:1: FutureWarning: The default value of regex will change from True to False in a future version. In addition, single character regular expressions will *not* be treated as literal strings when regex=True.\n",
      "  numbers_series = numbers_series.str.replace('$', \"\")\n"
     ]
    }
   ],
   "source": [
    "numbers_series = numbers_series.str.replace('$', \"\")\n",
    "numbers_series = numbers_series.str.replace(',',\"\")\n",
    "\n",
    "numbers_series = numbers_series.astype('float')"
   ]
  },
  {
   "cell_type": "code",
   "execution_count": 115,
   "id": "82db2c7e",
   "metadata": {
    "scrolled": true
   },
   "outputs": [
    {
     "data": {
      "text/plain": [
       "11    4789988.17\n",
       "dtype: float64"
      ]
     },
     "execution_count": 115,
     "metadata": {},
     "output_type": "execute_result"
    }
   ],
   "source": [
    "numbers_series.nlargest(n=1, keep= 'first')\n",
    "\n",
    "# or \n",
    "# numbers_series.max()"
   ]
  },
  {
   "cell_type": "code",
   "execution_count": 117,
   "id": "336f2cde",
   "metadata": {},
   "outputs": [
    {
     "data": {
      "text/plain": [
       "278.6"
      ]
     },
     "execution_count": 117,
     "metadata": {},
     "output_type": "execute_result"
    }
   ],
   "source": [
    "numbers_series.min()\n",
    "\n",
    "# or \n",
    "# numbers_series.nsmallest(n=1, keep = 'first')"
   ]
  },
  {
   "cell_type": "code",
   "execution_count": 126,
   "id": "333aa4ed",
   "metadata": {},
   "outputs": [
    {
     "data": {
      "text/plain": [
       "4789709.57"
      ]
     },
     "execution_count": 126,
     "metadata": {},
     "output_type": "execute_result"
    }
   ],
   "source": [
    "range = numbers_series.max() - numbers_series.min()\n",
    "range"
   ]
  },
  {
   "cell_type": "code",
   "execution_count": 166,
   "id": "78ff18da",
   "metadata": {},
   "outputs": [
    {
     "data": {
      "text/plain": [
       "(-4511.11, 1197705.993]       7\n",
       "(3592560.778, 4789988.17]     6\n",
       "(1197705.993, 2395133.385]    4\n",
       "(2395133.385, 3592560.778]    3\n",
       "dtype: int64"
      ]
     },
     "execution_count": 166,
     "metadata": {},
     "output_type": "execute_result"
    }
   ],
   "source": [
    "cut_numbers_series = pd.cut(numbers_series, 4).value_counts()\n",
    "cut_numbers_series"
   ]
  },
  {
   "cell_type": "code",
   "execution_count": 164,
   "id": "048b37d2",
   "metadata": {
    "scrolled": true
   },
   "outputs": [
    {
     "data": {
      "image/png": "[encoded data removed]",
      "text/plain": [
       "<Figure size 432x288 with 1 Axes>"
      ]
     },
     "metadata": {
      "needs_background": "light"
     },
     "output_type": "display_data"
    }
   ],
   "source": [
    "cut_numbers_series.plot.bar(color='firebrick', width=.9)\n",
    "plt.title('Cut Numbers Series')\n",
    "plt.xlabel('Numbers')\n",
    "plt.ylabel('Values')\n",
    "\n",
    "plt.show()"
   ]
  },
  {
   "cell_type": "markdown",
   "id": "b4a1b99a",
   "metadata": {},
   "source": [
    "Use pandas to create a Series named exam_scores from the following list:\n",
    "\n",
    "        [60, 86, 75, 62, 93, 71, 60, 83, 95, 78, 65, 72, 69, 81, 96, 80, 85, 92, 82, 78]\n",
    "        \n",
    "15. How many elements are in the exam_scores Series?\n",
    "\n",
    "16. Run the code to discover the minimum, the maximum, the mean, and the median scores for the exam_scores Series.\n",
    "    \n",
    "17. Plot the Series in a meaningful way and make sure your chart has a title and axis labels.\n",
    "\n",
    "18. Write the code necessary to implement a curve for your exam_grades Series and save this as curved_grades. Add the necessary points to the highest grade to make it 100, and add the same number of points to every other score in the Series as well.\n",
    "    \n",
    "19. Use a method to convert each of the numeric values in the curved_grades Series into a categorical value of letter grades. For example, 86 should be a 'B' and 95 should be an 'A'. Save this as a Series named letter_grades.\n",
    "\n",
    "20. Plot your new categorical letter_grades Series in a meaninful way and include a title and axis labels."
   ]
  },
  {
   "cell_type": "code",
   "execution_count": 142,
   "id": "8eab0044",
   "metadata": {},
   "outputs": [],
   "source": [
    "exam_scores = pd.Series([60, 86, 75, 62, 93, 71, 60, 83, 95, 78, 65, 72, 69, 81, 96, 80, 85, 92, 82, 78])"
   ]
  },
  {
   "cell_type": "code",
   "execution_count": 144,
   "id": "62172a1e",
   "metadata": {},
   "outputs": [],
   "source": [
    "exam_scores = exam_scores.astype('int')"
   ]
  },
  {
   "cell_type": "code",
   "execution_count": 146,
   "id": "17d5e679",
   "metadata": {},
   "outputs": [
    {
     "data": {
      "text/plain": [
       "20"
      ]
     },
     "execution_count": 146,
     "metadata": {},
     "output_type": "execute_result"
    }
   ],
   "source": [
    "exam_scores.value_counts().sum()"
   ]
  },
  {
   "cell_type": "code",
   "execution_count": 149,
   "id": "ea5aed07",
   "metadata": {},
   "outputs": [
    {
     "data": {
      "text/plain": [
       "60"
      ]
     },
     "execution_count": 149,
     "metadata": {},
     "output_type": "execute_result"
    }
   ],
   "source": [
    "exam_scores.min()"
   ]
  },
  {
   "cell_type": "code",
   "execution_count": 150,
   "id": "9afdc9c2",
   "metadata": {},
   "outputs": [
    {
     "data": {
      "text/plain": [
       "96"
      ]
     },
     "execution_count": 150,
     "metadata": {},
     "output_type": "execute_result"
    }
   ],
   "source": [
    "exam_scores.max()"
   ]
  },
  {
   "cell_type": "code",
   "execution_count": 151,
   "id": "55f96b19",
   "metadata": {},
   "outputs": [
    {
     "data": {
      "text/plain": [
       "78.15"
      ]
     },
     "execution_count": 151,
     "metadata": {},
     "output_type": "execute_result"
    }
   ],
   "source": [
    "exam_scores.mean()"
   ]
  },
  {
   "cell_type": "code",
   "execution_count": 154,
   "id": "4e5559d1",
   "metadata": {},
   "outputs": [
    {
     "data": {
      "text/plain": [
       "79.0"
      ]
     },
     "execution_count": 154,
     "metadata": {},
     "output_type": "execute_result"
    }
   ],
   "source": [
    "exam_scores.median()"
   ]
  },
  {
   "cell_type": "code",
   "execution_count": 162,
   "id": "63c8677f",
   "metadata": {},
   "outputs": [
    {
     "data": {
      "image/png": "[encoded data removed]",
      "text/plain": [
       "<Figure size 432x288 with 1 Axes>"
      ]
     },
     "metadata": {
      "needs_background": "light"
     },
     "output_type": "display_data"
    }
   ],
   "source": [
    "exam_scores.value_counts().plot.bar(color='firebrick', width=.9)\n",
    "plt.title('Cut Numbers Series')\n",
    "plt.xlabel('Numbers')\n",
    "plt.ylabel('Values')\n",
    "\n",
    "plt.show()"
   ]
  },
  {
   "cell_type": "code",
   "execution_count": 174,
   "id": "87e18bb6",
   "metadata": {},
   "outputs": [
    {
     "data": {
      "text/plain": [
       "0      64\n",
       "1      90\n",
       "2      79\n",
       "3      66\n",
       "4      97\n",
       "5      75\n",
       "6      64\n",
       "7      87\n",
       "8      99\n",
       "9      82\n",
       "10     69\n",
       "11     76\n",
       "12     73\n",
       "13     85\n",
       "14    100\n",
       "15     84\n",
       "16     89\n",
       "17     96\n",
       "18     86\n",
       "19     82\n",
       "dtype: int64"
      ]
     },
     "execution_count": 174,
     "metadata": {},
     "output_type": "execute_result"
    }
   ],
   "source": [
    "curved_grades = exam_scores + 4\n",
    "lcurved_grades"
   ]
  },
  {
   "cell_type": "code",
   "execution_count": 193,
   "id": "951f3d6f",
   "metadata": {},
   "outputs": [
    {
     "data": {
      "text/plain": [
       "0     F\n",
       "1     B\n",
       "2     C\n",
       "3     F\n",
       "4     A\n",
       "5     D\n",
       "6     F\n",
       "7     B\n",
       "8     A\n",
       "9     B\n",
       "10    F\n",
       "11    C\n",
       "12    D\n",
       "13    B\n",
       "14    A\n",
       "15    B\n",
       "16    B\n",
       "17    A\n",
       "18    B\n",
       "19    B\n",
       "dtype: category\n",
       "Categories (5, object): ['F' < 'D' < 'C' < 'B' < 'A']"
      ]
     },
     "execution_count": 193,
     "metadata": {},
     "output_type": "execute_result"
    }
   ],
   "source": [
    "letter_grades = pd.cut(curved_grades, bins=[0, 70, 75, 80, 90, 101], labels= ['F', 'D', 'C', 'B', 'A'])\n",
    "letter_grades"
   ]
  },
  {
   "cell_type": "code",
   "execution_count": 198,
   "id": "b6aadf7d",
   "metadata": {},
   "outputs": [
    {
     "data": {
      "image/png": "[encoded data removed]",
      "text/plain": [
       "<Figure size 432x288 with 1 Axes>"
      ]
     },
     "metadata": {
      "needs_background": "light"
     },
     "output_type": "display_data"
    }
   ],
   "source": [
    "letter_grades.value_counts().plot.bar(color='firebrick', width=.9, rot =0)\n",
    "plt.title('Students and Grades')\n",
    "plt.xlabel('Grades')\n",
    "plt.ylabel('Students')\n",
    "\n",
    "plt.show()"
   ]
  },
  {
   "cell_type": "code",
   "execution_count": null,
   "id": "1abc6824",
   "metadata": {},
   "outputs": [],
   "source": []
  }
 ],
 "metadata": {
  "kernelspec": {
   "display_name": "Python 3 (ipykernel)",
   "language": "python",
   "name": "python3"
  },
  "language_info": {
   "codemirror_mode": {
    "name": "ipython",
    "version": 3
   },
   "file_extension": ".py",
   "mimetype": "text/x-python",
   "name": "python",
   "nbconvert_exporter": "python",
   "pygments_lexer": "ipython3",
   "version": "3.9.7"
  }
 },
 "nbformat": 4,
 "nbformat_minor": 5
}
